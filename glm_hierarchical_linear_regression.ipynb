{
 "cells": [
  {
   "attachments": {},
   "cell_type": "markdown",
   "metadata": {},
   "source": [
    "# 一般化線形モデル：階層化線形回帰\n",
    "ここでは以下のことを行う\n",
    "- 階層化ベイジアンモデリングの直観的説明\n",
    "- 階層化ベイジアンモデリングの有効性の実証と、非階層化モデリングとの比較\n",
    "- **縮小効果**(shrinkage effect)の可視化\n",
    "- 頻度主義的視点とのつながり"
   ]
  },
  {
   "cell_type": "code",
   "execution_count": null,
   "metadata": {},
   "outputs": [],
   "source": []
  }
 ],
 "metadata": {
  "kernelspec": {
   "display_name": "pymc3",
   "language": "python",
   "name": "python3"
  },
  "language_info": {
   "name": "python",
   "version": "3.10.8 | packaged by conda-forge | (main, Nov 22 2022, 08:25:29) [Clang 14.0.6 ]"
  },
  "orig_nbformat": 4,
  "vscode": {
   "interpreter": {
    "hash": "ac0af857483fcde1ebff4e2e6c4a80ac664647472e3c8854c4aa51f5d39081fc"
   }
  }
 },
 "nbformat": 4,
 "nbformat_minor": 2
}
